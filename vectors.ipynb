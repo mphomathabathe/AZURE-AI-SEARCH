{
 "cells": [
  {
   "cell_type": "code",
   "execution_count": null,
   "metadata": {},
   "outputs": [],
   "source": [
    "import os\n",
    "import json\n",
    "from openai import AzureOpenAI\n",
    "from dotenv import load_dotenv\n",
    "from tenacity import retry, wait_random_exponential, stop_after_attempt\n",
    "import numpy as np\n",
    "from matplotlib import pyplot as plt\n",
    "from scipy.spatial.distance import cosine\n",
    "from scipy.spatial import distance\n",
    "from tabulate import tabulate"
   ]
  },
  {
   "cell_type": "code",
   "execution_count": null,
   "metadata": {},
   "outputs": [],
   "source": [
    "plt.rcParams['figure.figuresize'] = [10, 5]\n",
    "plt.rcParamsdata['figure.autolayout'] = True\n",
    "data = np.array([[1, 2],[-1, 1],[-1, 1]])\n",
    "origin = np.array([[0, 0],[0, 0]])\n",
    "plt.quiver(*origin, data[:,0], data[:,1], color=['r','g','b'], scale=10\")\n",
    "plt.show()\n"
   ]
  },
  {
   "cell_type": "code",
   "execution_count": null,
   "metadata": {},
   "outputs": [],
   "source": [
    "load_dotenv()\n",
    "def generate_embeddings(text):\n",
    "    client = AzureOpenAI(\n",
    "    api_key = os.getenv(\"AZURE_OPENAI_API_KEY\")\n",
    "    api_version = \"2024-09-009\" \n",
    "    azure_endpoint = os.getenv(\"AZURE_OPENAI_API_KEY\")  \n",
    "    )\n",
    "    model: str = \"text-embedding-ada-002\"\n",
    "    return client.embedding.create(input = [text], mode=model).data[0].embedding"
   ]
  },
  {
   "cell_type": "code",
   "execution_count": null,
   "metadata": {},
   "outputs": [],
   "source": [
    "v1 = generate_embeddings(\"dogs are cute. Therefore adapting a dog improves your mood. Infact, many people have dogs as pets.\")\n",
    "v2 = generate_embeddings(\"Domestic animals as pets are great. cats seem to be wonderful. Some people like cats. Beware of the allergens though!!!\")\n",
    "v3 = generate_embeddings(\"sports are good for your health. Children play flag football. they iconize Tom brady as he is the best quarterback ever!!!\")\n",
    "v4 = generate_embeddings(\"les chiens sont mignons. Par conséquent, adapter un chien améliore votre humeur. Cependant, certains enfants peuvent être allergiques aux chiens.\")"
   ]
  },
  {
   "cell_type": "code",
   "execution_count": null,
   "metadata": {},
   "outputs": [],
   "source": [
    "print(tabulate([['V1-->V2',np.dot(v1, v2)] ,['V1-->V3',np.dot(v1, v3)], ['V1-->V4',np.dot(v1, v4)],['V2-->V4',np.dot(v2, v4)],['V1-->V1',np.dot(v1, v1)]], headers=['Vec-->Vec','Dot Prod'], tablefmt='orgtbl'))\n",
    "print('\\n')\n",
    "print(tabulate([['V1-->V2',cosine(v1, v2)] ,['V1-->V3',cosine(v1, v3)], ['V1-->V4',cosine(v1, v4)],['V2-->V4',cosine(v2, v4)],['V1-->V1',cosine(v1, v1)]], headers=['Vec-->Vec','Cos Sim.'], tablefmt='orgtbl'))\n",
    "print('\\n')\n",
    "print(tabulate([['V1-->V2',distance.euclidean(v1, v2)] ,['V1-->V3',distance.euclidean(v1, v3)], ['V1-->V4',distance.euclidean(v1, v4)],['V2-->V4',distance.euclidean(v2, v4)],['V1-->V1',distance.euclidean(v1, v1)]], headers=['Vec-->Vec','Eu Dist.'], tablefmt='orgtbl'))\n"
   ]
  },
  {
   "cell_type": "code",
   "execution_count": null,
   "metadata": {},
   "outputs": [],
   "source": [
    "from utils.hydrateaisearchindex import hydrateaisearchindex\n",
    "h = hydrateaisearchindex\n",
    "h.hydrateindex()"
   ]
  },
  {
   "cell_type": "code",
   "execution_count": null,
   "metadata": {},
   "outputs": [],
   "source": [
    "from operator import index\n",
    "from dotenv import load_dotenv\n",
    "from utils.performvectorsearch import performvectorsearch\n",
    "indexname= \"demo-index\"\n",
    "\n",
    "pvs = performvectorsearch()\n",
    "query=\"How can I host my website?\"\n",
    "\n",
    "results = pvs.searchvector(query,\"contentVector,titleVector\",[\"title\", \"content\", \"category\"])\n",
    "for result in results:  \n",
    "    print(f\"Semantic Captions: {result['@search.captions'][0].highlights}\")\n",
    "    print(f\"Semantic Text: {result['@search.captions'][0].text}\")\n",
    "    print(f\"Title: {result['title']}\")  \n",
    "    print(f\"Score: {result['@search.score']}\")  \n",
    "    print(f\"ReRanker Score: {result['@search.reranker_score']}\")  \n",
    "    print(f\"Content: {result['content']}\")  \n",
    "    print(f\"Category: {result['category']}\\n\")  "
   ]
  }
 ],
 "metadata": {
  "language_info": {
   "name": "python"
  },
  "orig_nbformat": 4
 },
 "nbformat": 4,
 "nbformat_minor": 2
}
